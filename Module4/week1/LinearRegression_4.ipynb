{
 "cells": [
  {
   "cell_type": "code",
   "execution_count": 1,
   "metadata": {},
   "outputs": [],
   "source": [
    "import numpy as np\n",
    "import matplotlib.pyplot as plt"
   ]
  },
  {
   "cell_type": "code",
   "execution_count": null,
   "metadata": {},
   "outputs": [],
   "source": [
    "def get_column(data, index):\n",
    "    result = [row[index] for row in data]\n",
    "    return result\n",
    "\n",
    "def prepare_data(file_name_dataset):\n",
    "    # Load data from the dataset, skipping the header\n",
    "    data = np.genfromtxt(file_name_dataset, delimiter=',', skip_header=1).tolist()\n",
    "    \n",
    "    # Extract individual columns for features\n",
    "    tv_data = get_column(data, 0)\n",
    "    radio_data = get_column(data, 1)\n",
    "    newspaper_data = get_column(data, 2)\n",
    "    \n",
    "    # Extract target variable (sales)\n",
    "    sales_data = get_column(data, 3)\n",
    "    \n",
    "    # Build X (input) and y (output) for training\n",
    "    X = [[1, tv, radio, newspaper] for tv, radio, newspaper in zip(tv_data, radio_data, newspaper_data)]\n",
    "    y = sales_data\n",
    "\n",
    "    return X, y\n",
    "\n",
    "def initialize_params():\n",
    "    return [0, -0.01268850433497871, 0.004752496982185252, 0.0073796171538643845]"
   ]
  },
  {
   "cell_type": "code",
   "execution_count": null,
   "metadata": {},
   "outputs": [],
   "source": [
    "def predict(X_features, weights):\n",
    "    X_features = np.array(X_features)\n",
    "    weights = np.array(weights)\n",
    "    result = np.dot(X_features, weights)\n",
    "    return result\n",
    "\n",
    "def compute_loss(y_hat, y):\n",
    "    return (y_hat - y)**2\n",
    "\n",
    "# Compute gradient\n",
    "def compute_gradient_w(X_features, y, y_hat):\n",
    "    dl_dw1 = 2*X_features[1]*(y_hat-y)\n",
    "    dl_dw2 = 2*X_features[2]*(y_hat-y)\n",
    "    dl_dw3 = 2*X_features[3]*(y_hat-y)\n",
    "    dl_db = 2*(y_hat-y)\n",
    "    \n",
    "    dl_dweights = [dl_db, dl_dw1, dl_dw2, dl_dw3]\n",
    "    return dl_dweights\n",
    "\n",
    "# Update weights\n",
    "def update_weight(weights, dl_dweights, lr):\n",
    "    b, w1, w2, w3 = weights\n",
    "    dl_db, dl_w1, dl_w2, dl_w3 = dl_dweights \n",
    "    b = b - lr*dl_db\n",
    "    w1 = w1 - lr*dl_w1\n",
    "    w2 = w2 - lr*dl_w2\n",
    "    w3 = w3 - lr*dl_w3\n",
    "    weights = [b, w1, w2, w3]\n",
    "    return weights"
   ]
  },
  {
   "cell_type": "code",
   "execution_count": null,
   "metadata": {},
   "outputs": [],
   "source": [
    "def implement_linear_regression(X_feature, y_output, epoch_max=50, lr=1e-5):\n",
    "    losses = []\n",
    "    weights = initialize_params()\n",
    "    N = len(y_output)\n",
    "\n",
    "    for epoch in range(epoch_max):\n",
    "        print(\"Epoch:\", epoch)\n",
    "        for i in range(N):\n",
    "            # Get a sample - row i\n",
    "            features_i = X_feature[i]\n",
    "            y = y_output[i]\n",
    "\n",
    "            # Compute output\n",
    "            y_hat = predict(features_i, weights)\n",
    "\n",
    "            # Compute loss\n",
    "            loss = compute_loss(y, y_hat)\n",
    "\n",
    "            # Compute gradient w1, w2, w3, b\n",
    "            dl_dweights = compute_gradient_w(features_i, y, y_hat)\n",
    "\n",
    "            # Update parameters\n",
    "            weights = update_weight(weights, dl_dweights, lr)\n",
    "\n",
    "            # Logging\n",
    "            losses.append(loss)\n",
    "\n",
    "    return weights, losses\n",
    "\n",
    "# Prepare data and implement linear regression\n",
    "X, y = prepare_data('advertising.csv')\n",
    "W, L = implement_linear_regression(X, y)\n",
    "\n",
    "\n",
    "# Plot loss\n",
    "plt.plot(L[:100])\n",
    "plt.xlabel(\"# Iteration\")\n",
    "plt.ylabel(\"Loss\")\n",
    "plt.show()"
   ]
  },
  {
   "cell_type": "code",
   "execution_count": null,
   "metadata": {},
   "outputs": [],
   "source": [
    "print(L[9999])"
   ]
  }
 ],
 "metadata": {
  "kernelspec": {
   "display_name": "env",
   "language": "python",
   "name": "python3"
  },
  "language_info": {
   "codemirror_mode": {
    "name": "ipython",
    "version": 3
   },
   "file_extension": ".py",
   "mimetype": "text/x-python",
   "name": "python",
   "nbconvert_exporter": "python",
   "pygments_lexer": "ipython3",
   "version": "3.10.12"
  }
 },
 "nbformat": 4,
 "nbformat_minor": 2
}
