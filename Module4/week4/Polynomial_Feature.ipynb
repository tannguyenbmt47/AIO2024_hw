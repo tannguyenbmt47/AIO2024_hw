{
 "cells": [
  {
   "cell_type": "code",
   "execution_count": 2,
   "metadata": {},
   "outputs": [],
   "source": [
    "import numpy as np\n",
    "def create_polynomial_features(X, degree=2):\n",
    "    \"\"\"Creates the polynomial features.\n",
    "    \n",
    "    Args:\n",
    "        X: A numpy array for the data.\n",
    "        degree: An integer for the degree of the generated polynomial function.\n",
    "    \"\"\"\n",
    "    X_new = X\n",
    "    for d in range(2, degree+1):\n",
    "        X_new = np._c(X_new , np.power(X,d))\n",
    "    return X_new\n",
    "\n",
    "X = np.array([[1], [2], [3]])\n"
   ]
  },
  {
   "cell_type": "code",
   "execution_count": 4,
   "metadata": {},
   "outputs": [
    {
     "name": "stdout",
     "output_type": "stream",
     "text": [
      "[]\n",
      "________________-\n",
      "[array([1, 2, 3]), array([1, 4, 9])]\n",
      "________________-\n",
      "[[ 1  1  2  4]\n",
      " [ 2  4  3  9]\n",
      " [ 3  9  4 16]]\n"
     ]
    }
   ],
   "source": [
    "def create_polynomial_features(X, degree=2):\n",
    "    \"\"\"Creates the polynomial features.\n",
    "    \n",
    "    Args:\n",
    "        X: A numpy array for the data.\n",
    "        degree: An integer for the degree of the generated polynomial function.\n",
    "    \"\"\"\n",
    "    X_mem = []\n",
    "    for X_sub in X.T:\n",
    "        X_new = X_sub\n",
    "        for d in range(2, degree + 1):\n",
    "            X_new = np.c_[X_new, np.power(X_sub, d)]\n",
    "        print(X_new)\n",
    "        print(X_mem)\n",
    "        print(\"________________-\")\n",
    "        X_mem.extend(X_new.T)\n",
    "    return np.c_[X_mem].T\n",
    "\n",
    "X = np.array(  [[1 , 2] ,\n",
    "                [2 , 3] ,\n",
    "                [3 , 4]])\n",
    "\n",
    "degree = 2\n",
    "\n",
    "print(create_polynomial_features(X, degree))"
   ]
  }
 ],
 "metadata": {
  "kernelspec": {
   "display_name": "env",
   "language": "python",
   "name": "python3"
  },
  "language_info": {
   "codemirror_mode": {
    "name": "ipython",
    "version": 3
   },
   "file_extension": ".py",
   "mimetype": "text/x-python",
   "name": "python",
   "nbconvert_exporter": "python",
   "pygments_lexer": "ipython3",
   "version": "3.10.12"
  }
 },
 "nbformat": 4,
 "nbformat_minor": 2
}
