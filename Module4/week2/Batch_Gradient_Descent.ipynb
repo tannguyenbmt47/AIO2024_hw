{
 "cells": [
  {
   "cell_type": "code",
   "execution_count": 1,
   "metadata": {},
   "outputs": [],
   "source": [
    "import numpy as np\n",
    "from numpy import genfromtxt\n",
    "import matplotlib.pyplot as plt\n",
    "\n",
    "# Load data from the CSV file\n",
    "data = genfromtxt('advertising.csv', delimiter=',', skip_header=1)\n",
    "\n",
    "# Extract input (X) and output (y) data\n",
    "N = data.shape[0]\n",
    "X = data[:, :3]\n",
    "y = data[:, 3:]\n",
    "\n",
    "# Function to normalize input data using mean normalization\n",
    "def mean_normalization(X):\n",
    "    N = len(X)\n",
    "    max_val = np.max(X)\n",
    "    min_val = np.min(X)\n",
    "    mean_val = np.mean(X)\n",
    "    \n",
    "    # Apply mean normalization\n",
    "    X_normalized = (X - mean_val) / (max_val - min_val)\n",
    "    \n",
    "    # Add bias term (column of ones)\n",
    "    X_b = np.c_[np.ones((N, 1)), X_normalized]\n",
    "    \n",
    "    return X_b, max_val, min_val, mean_val\n",
    "\n",
    "# Perform mean normalization on input data\n",
    "X_b, max_val, min_val, mean_val = mean_normalization(X)"
   ]
  },
  {
   "cell_type": "code",
   "execution_count": 6,
   "metadata": {},
   "outputs": [],
   "source": [
    "import numpy as np\n",
    "\n",
    "def batch_gradient_descent(X_b, y, n_epochs=100, learning_rate=0.01):\n",
    "    # Khởi tạo tham số (hoặc dùng np.random.randn cho ứng dụng thực tế)\n",
    "    # thetas = np.random.randn(4, 1)  # Uncomment this line for real application\n",
    "    thetas = np.asarray([[1.16270837], [-0.81960489], [1.39501033], [0.29763545]])\n",
    "\n",
    "    # Lưu lịch sử các giá trị của thetas và hàm mất mát (loss)\n",
    "    thetas_path = [thetas.copy()]\n",
    "    losses = []\n",
    "\n",
    "    # Số lượng mẫu dữ liệu\n",
    "    N = X_b.shape[0]\n",
    "\n",
    "    # Lặp qua từng epoch\n",
    "    for epoch in range(n_epochs):\n",
    "        # Compute output (Dự đoán)\n",
    "        yi_hat = X_b.dot(thetas)\n",
    "\n",
    "        # Compute loss (Tính hàm mất mát)\n",
    "        loss = (yi_hat - y)**2\n",
    "\n",
    "        # Compute derivative of loss (Đạo hàm của hàm mất mát)\n",
    "        loss_gradient = 2*(yi_hat - y)/ N\n",
    "\n",
    "        # Compute derivative of parameters (Đạo hàm theo tham số)\n",
    "        gradients = X_b.T.dot(loss_gradient)\n",
    "\n",
    "        # Update parameters (Cập nhật tham số)\n",
    "        thetas = thetas - learning_rate * gradients\n",
    "\n",
    "        # Lưu lại thetas mới và giá trị hàm mất mát\n",
    "        thetas_path.append(thetas.copy())\n",
    "        mean_loss = np.sum(loss) / N\n",
    "        losses.append(mean_loss)\n",
    "\n",
    "    # Trả về lịch sử của thetas và hàm mất mát\n",
    "    return thetas_path, losses\n"
   ]
  },
  {
   "cell_type": "code",
   "execution_count": 7,
   "metadata": {},
   "outputs": [
    {
     "data": {
      "image/png": "[encoded data removed]",
      "text/plain": [
       "<Figure size 640x480 with 1 Axes>"
      ]
     },
     "metadata": {},
     "output_type": "display_data"
    }
   ],
   "source": [
    "bgd_thetas , losses = batch_gradient_descent ( X_b , y , n_epochs =100 , learning_rate=0.01)\n",
    "\n",
    "x_axis = list(range(100))\n",
    "plt.plot( x_axis, losses[:100], color =\"r\")\n",
    "plt.show()"
   ]
  },
  {
   "cell_type": "code",
   "execution_count": 8,
   "metadata": {},
   "outputs": [
    {
     "name": "stdout",
     "output_type": "stream",
     "text": [
      "6716.46\n"
     ]
    }
   ],
   "source": [
    "bgd_thetas , losses = batch_gradient_descent ( X_b , y , n_epochs =100 , learning_rate=0.01)\n",
    "print ( round ( sum( losses ) ,2) )"
   ]
  }
 ],
 "metadata": {
  "kernelspec": {
   "display_name": "env",
   "language": "python",
   "name": "python3"
  },
  "language_info": {
   "codemirror_mode": {
    "name": "ipython",
    "version": 3
   },
   "file_extension": ".py",
   "mimetype": "text/x-python",
   "name": "python",
   "nbconvert_exporter": "python",
   "pygments_lexer": "ipython3",
   "version": "3.10.12"
  }
 },
 "nbformat": 4,
 "nbformat_minor": 2
}
