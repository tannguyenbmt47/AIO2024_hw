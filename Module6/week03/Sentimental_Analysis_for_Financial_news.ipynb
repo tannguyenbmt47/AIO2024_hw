{
 "cells": [
  {
   "cell_type": "code",
   "execution_count": 3,
   "metadata": {},
   "outputs": [
    {
     "name": "stderr",
     "output_type": "stream",
     "text": [
      "[nltk_data] Downloading package stopwords to /home/tan/nltk_data...\n",
      "[nltk_data]   Package stopwords is already up-to-date!\n"
     ]
    },
    {
     "data": {
      "text/plain": [
       "<torch._C.Generator at 0x7e616ff7a970>"
      ]
     },
     "execution_count": 3,
     "metadata": {},
     "output_type": "execute_result"
    }
   ],
   "source": [
    "import torch\n",
    "import os\n",
    "import numpy as np\n",
    "import pandas as pd\n",
    "import re\n",
    "import nltk\n",
    "import unidecode\n",
    "from nltk.corpus import stopwords\n",
    "from nltk.stem.porter import PorterStemmer\n",
    "from torch.utils.data import Dataset, DataLoader\n",
    "from sklearn.model_selection import train_test_split\n",
    "import torch.nn as nn\n",
    "import torch.nn.functional as F\n",
    "import matplotlib.pyplot as plt\n",
    "\n",
    "nltk.download('stopwords')\n",
    "\n",
    "\n",
    "seed = 1\n",
    "torch.manual_seed(seed)\n",
    "\n",
    "\n"
   ]
  },
  {
   "cell_type": "code",
   "execution_count": 4,
   "metadata": {},
   "outputs": [
    {
     "data": {
      "text/html": [
       "<div>\n",
       "<style scoped>\n",
       "    .dataframe tbody tr th:only-of-type {\n",
       "        vertical-align: middle;\n",
       "    }\n",
       "\n",
       "    .dataframe tbody tr th {\n",
       "        vertical-align: top;\n",
       "    }\n",
       "\n",
       "    .dataframe thead th {\n",
       "        text-align: right;\n",
       "    }\n",
       "</style>\n",
       "<table border=\"1\" class=\"dataframe\">\n",
       "  <thead>\n",
       "    <tr style=\"text-align: right;\">\n",
       "      <th></th>\n",
       "      <th>sentiment</th>\n",
       "      <th>content</th>\n",
       "    </tr>\n",
       "  </thead>\n",
       "  <tbody>\n",
       "    <tr>\n",
       "      <th>0</th>\n",
       "      <td>neutral</td>\n",
       "      <td>According to Gran , the company has no plans t...</td>\n",
       "    </tr>\n",
       "    <tr>\n",
       "      <th>1</th>\n",
       "      <td>neutral</td>\n",
       "      <td>Technopolis plans to develop in stages an area...</td>\n",
       "    </tr>\n",
       "    <tr>\n",
       "      <th>2</th>\n",
       "      <td>negative</td>\n",
       "      <td>The international electronic industry company ...</td>\n",
       "    </tr>\n",
       "    <tr>\n",
       "      <th>3</th>\n",
       "      <td>positive</td>\n",
       "      <td>With the new production plant the company woul...</td>\n",
       "    </tr>\n",
       "    <tr>\n",
       "      <th>4</th>\n",
       "      <td>positive</td>\n",
       "      <td>According to the company 's updated strategy f...</td>\n",
       "    </tr>\n",
       "  </tbody>\n",
       "</table>\n",
       "</div>"
      ],
      "text/plain": [
       "  sentiment                                            content\n",
       "0   neutral  According to Gran , the company has no plans t...\n",
       "1   neutral  Technopolis plans to develop in stages an area...\n",
       "2  negative  The international electronic industry company ...\n",
       "3  positive  With the new production plant the company woul...\n",
       "4  positive  According to the company 's updated strategy f..."
      ]
     },
     "execution_count": 4,
     "metadata": {},
     "output_type": "execute_result"
    }
   ],
   "source": [
    "dataset_path = 'dataset/all-data.csv'\n",
    "headers = ['sentiment', 'content']\n",
    "df = pd.read_csv(dataset_path, names=headers, encoding='ISO-8859-1')\n",
    "df.head()\n"
   ]
  },
  {
   "cell_type": "code",
   "execution_count": 5,
   "metadata": {},
   "outputs": [],
   "source": [
    "classes = {class_name: idx for idx, class_name in enumerate(df['sentiment'].unique().tolist())}\n",
    "df['sentiment'] = df['sentiment'].apply(lambda x: classes[x])\n"
   ]
  },
  {
   "cell_type": "code",
   "execution_count": 6,
   "metadata": {},
   "outputs": [
    {
     "data": {
      "text/html": [
       "<div>\n",
       "<style scoped>\n",
       "    .dataframe tbody tr th:only-of-type {\n",
       "        vertical-align: middle;\n",
       "    }\n",
       "\n",
       "    .dataframe tbody tr th {\n",
       "        vertical-align: top;\n",
       "    }\n",
       "\n",
       "    .dataframe thead th {\n",
       "        text-align: right;\n",
       "    }\n",
       "</style>\n",
       "<table border=\"1\" class=\"dataframe\">\n",
       "  <thead>\n",
       "    <tr style=\"text-align: right;\">\n",
       "      <th></th>\n",
       "      <th>sentiment</th>\n",
       "      <th>content</th>\n",
       "    </tr>\n",
       "  </thead>\n",
       "  <tbody>\n",
       "    <tr>\n",
       "      <th>0</th>\n",
       "      <td>0</td>\n",
       "      <td>According to Gran , the company has no plans t...</td>\n",
       "    </tr>\n",
       "    <tr>\n",
       "      <th>1</th>\n",
       "      <td>0</td>\n",
       "      <td>Technopolis plans to develop in stages an area...</td>\n",
       "    </tr>\n",
       "    <tr>\n",
       "      <th>2</th>\n",
       "      <td>1</td>\n",
       "      <td>The international electronic industry company ...</td>\n",
       "    </tr>\n",
       "    <tr>\n",
       "      <th>3</th>\n",
       "      <td>2</td>\n",
       "      <td>With the new production plant the company woul...</td>\n",
       "    </tr>\n",
       "    <tr>\n",
       "      <th>4</th>\n",
       "      <td>2</td>\n",
       "      <td>According to the company 's updated strategy f...</td>\n",
       "    </tr>\n",
       "  </tbody>\n",
       "</table>\n",
       "</div>"
      ],
      "text/plain": [
       "   sentiment                                            content\n",
       "0          0  According to Gran , the company has no plans t...\n",
       "1          0  Technopolis plans to develop in stages an area...\n",
       "2          1  The international electronic industry company ...\n",
       "3          2  With the new production plant the company woul...\n",
       "4          2  According to the company 's updated strategy f..."
      ]
     },
     "execution_count": 6,
     "metadata": {},
     "output_type": "execute_result"
    }
   ],
   "source": [
    "df.head()"
   ]
  },
  {
   "cell_type": "markdown",
   "metadata": {},
   "source": [
    "### Tiền xử lí dữ liệu\n",
    "- Để tận dùng hàm apply của pandas, ta sẽ tiền xử lý văn bản cột content ngay tại đây. Đầu tiên, định nghĩa hàm chuẩn hóa, nhận tham số đầu vào là 1 text và trả về 1 text đã được chuẩn hóa:"
   ]
  },
  {
   "cell_type": "code",
   "execution_count": 7,
   "metadata": {},
   "outputs": [],
   "source": [
    "english_stopwords = set(stopwords.words('english'))\n",
    "stemmer = PorterStemmer() \n",
    "def text_normalize(text):\n",
    "    text = text.lower()\n",
    "    text = unidecode.unidecode(text)\n",
    "    text = text.strip()\n",
    "    text = re.sub(r'[^\\w\\s]', '', text)\n",
    "    text = ' '.join([word for word in text.split(' ') if word not in stopwords.words('english')])\n",
    "    text = ' '.join([PorterStemmer().stem(word) for word in text.split(' ')])\n",
    "    \n",
    "    return text\n"
   ]
  },
  {
   "cell_type": "markdown",
   "metadata": {},
   "source": [
    "- Các kỹ thuật chuẩn hóa được áp dụng trong bài bao gồm: Chuyển chữ viết thường (Lowercas-\n",
    "ing), Xóa dấu câu (Punctuation Removal), Xóa stopwords (Stopwords Removal), Stemming.\n",
    "\n",
    "Sau đó, áp dụng hàm text_normalize() vào cột content:"
   ]
  },
  {
   "cell_type": "code",
   "execution_count": 8,
   "metadata": {},
   "outputs": [],
   "source": [
    "df['content'] = df['content'].apply(lambda x: text_normalize(x))"
   ]
  },
  {
   "cell_type": "markdown",
   "metadata": {},
   "source": [
    "### Xây dựng bộ từ vựng\n",
    "- Để huấn luyện dữ liệu văn bản, ta cần chuyển đổi các văn bản\n",
    "thành vector. Phương thức đơn giản nhất, ta sẽ thu thập toàn bộ các từ trong bộ dữ liệu\n",
    "thành một tập từ vựng, mỗi từ có một ID riêng. Từ đó, với một văn bản đầu, ta quy đổi\n",
    "sang ID tương ứng, như vậy sẽ được một vector số nguyên. Đoạn code tạo bộ từ vựng được\n",
    "thực hiện như sau:"
   ]
  },
  {
   "cell_type": "code",
   "execution_count": 9,
   "metadata": {},
   "outputs": [],
   "source": [
    "vocab = []\n",
    "for sentence in df['content'].tolist():\n",
    "    tokens = sentence.split(' ')\n",
    "    for token in tokens:\n",
    "        if token not in vocab:\n",
    "            vocab.append(token)\n",
    "\n",
    "vocab.append('<UNK>')\n",
    "vocab.append('<PAD>')\n",
    "word_to_idx = { word : idx for idx , word in enumerate ( vocab ) }\n",
    "vocab_size = len( vocab )"
   ]
  },
  {
   "cell_type": "markdown",
   "metadata": {},
   "source": [
    "- Với bộ từ vựng trên, ta xây dựng hàm transform() dùng để chuyển đổi văn bản thành danh\n",
    "sách các số nguyên như sau:"
   ]
  },
  {
   "cell_type": "code",
   "execution_count": 10,
   "metadata": {},
   "outputs": [],
   "source": [
    "def transform(text, word_to_index, max_seq_length):\n",
    "    tokens = []\n",
    "    for w in text.split(' '):\n",
    "        try:\n",
    "            w_ids = word_to_index[w]\n",
    "        except:\n",
    "            w_ids = word_to_index['<UNK>']\n",
    "        tokens.append(w_ids)\n",
    "\n",
    "    if len(tokens) < max_seq_length:\n",
    "        tokens += [word_to_index['<PAD>']] * (max_seq_length - len(tokens))\n",
    "    elif len(tokens) > max_seq_length:\n",
    "        tokens = tokens[:max_seq_length]\n",
    "\n",
    "    return tokens    \n"
   ]
  },
  {
   "cell_type": "markdown",
   "metadata": {},
   "source": [
    "#### Chia bộ dữ liệu train, val, test: \n",
    "- Ta dùng hàm train_test_split của thư viện scikit-learn\n",
    "để chia bộ dữ liệu thành 3 bộ train/val/test theo tỷ lệ 7:2:1:"
   ]
  },
  {
   "cell_type": "code",
   "execution_count": 11,
   "metadata": {},
   "outputs": [],
   "source": [
    "val_size = 0.2\n",
    "test_size = 0.125\n",
    "is_shuffle = True\n",
    "texts = df['content'].tolist()\n",
    "labels = df['sentiment'].tolist()\n",
    "\n",
    "X_train, X_val, y_train, y_val = train_test_split(\n",
    "    texts, labels,\n",
    "    test_size=val_size,\n",
    "    random_state=seed,\n",
    "    shuffle=is_shuffle\n",
    ")\n",
    "\n",
    "X_train, X_test, y_train, y_test = train_test_split(\n",
    "    X_train, y_train,\n",
    "    test_size=val_size,\n",
    "    random_state=seed,\n",
    "    shuffle=is_shuffle\n",
    ")"
   ]
  },
  {
   "cell_type": "markdown",
   "metadata": {},
   "source": [
    "### Xây dựng Pytorch dataset:\n",
    "- Ta triển khai class tên FinancialNews với đầu vào gồm cặp\n",
    "dữ liệu đầu vào X - y, bộ từ điển cũng như hàm transform như sau:"
   ]
  },
  {
   "cell_type": "code",
   "execution_count": 12,
   "metadata": {},
   "outputs": [],
   "source": [
    "class FinancialNews(Dataset):\n",
    "    def __init__(self, X, y, word_to_idx, max_seq_len, transform=None):\n",
    "        self.texts = X\n",
    "        self.labels = y\n",
    "        self.word_to_idx = word_to_idx\n",
    "        self.max_seq_len = max_seq_len\n",
    "        self.transform = transform\n",
    "\n",
    "    def __len__(self):\n",
    "        return len(self.texts)\n",
    "\n",
    "    def __getitem__(self, idx):\n",
    "        text = self.texts[idx]\n",
    "        label = self.labels[idx]\n",
    "\n",
    "        if self.transform:\n",
    "            text = self.transform(text, self.word_to_idx, self.max_seq_len)\n",
    "\n",
    "        text = torch.tensor(text)\n",
    "\n",
    "        return text, label\n"
   ]
  },
  {
   "cell_type": "markdown",
   "metadata": {},
   "source": [
    "### Khai báo dataloader:"
   ]
  },
  {
   "cell_type": "code",
   "execution_count": 34,
   "metadata": {},
   "outputs": [],
   "source": [
    "max_seq_len = 32\n",
    "\n",
    "train_dataset = FinancialNews(X_train, y_train, word_to_idx=word_to_idx, max_seq_len=max_seq_len, transform=transform)\n",
    "val_dataset = FinancialNews(X_val, y_val, word_to_idx=word_to_idx, max_seq_len=max_seq_len, transform=transform)\n",
    "test_dataset = FinancialNews(X_test, y_test, word_to_idx=word_to_idx, max_seq_len=max_seq_len, transform=transform)\n",
    "\n",
    "train_batch_size = 128\n",
    "test_batch_size = 8\n",
    "\n",
    "train_loader = DataLoader(train_dataset, batch_size=train_batch_size, shuffle=True)\n",
    "val_loader = DataLoader(val_dataset, batch_size=test_batch_size, shuffle=False)\n",
    "test_loader = DataLoader(test_dataset, batch_size=test_batch_size, shuffle=False)\n"
   ]
  },
  {
   "cell_type": "markdown",
   "metadata": {},
   "source": [
    "### Xây dựng mô hình"
   ]
  },
  {
   "cell_type": "code",
   "execution_count": 35,
   "metadata": {},
   "outputs": [],
   "source": [
    "class SentimentClassifier(nn.Module):\n",
    "    def __init__(self, vocab_size, embedding_size, hidden_size, n_layers, n_classes, dropout_prob):\n",
    "        super(SentimentClassifier, self).__init__()\n",
    "        self.embedding = nn.Embedding(vocab_size, embedding_size)\n",
    "        self.rnn = nn.RNN(embedding_size, hidden_size, n_layers, batch_first=True)\n",
    "        self.norm = nn.LayerNorm(hidden_size)\n",
    "        self.dropout = nn.Dropout(dropout_prob)\n",
    "        self.fc1 = nn.Linear(hidden_size, 16)\n",
    "        self.fc2 = nn.Linear(16, n_classes)\n",
    "        self.relu = nn.ReLU()\n",
    "    \n",
    "    def forward(self, x):\n",
    "        x = self.embedding(x)\n",
    "        x, hn = self.rnn(x)\n",
    "        x = x[:,-1,:]\n",
    "        x = self.norm(x)\n",
    "        x = self.dropout(x)\n",
    "        x = self.fc1(x)\n",
    "        x = self.relu(x)\n",
    "        out = self.fc2(x)\n",
    "        return out"
   ]
  },
  {
   "cell_type": "code",
   "execution_count": 36,
   "metadata": {},
   "outputs": [],
   "source": [
    "n_classes = len(classes.keys())\n",
    "embedding_dim = 64\n",
    "hidden_size = 64\n",
    "n_layers = 2\n",
    "dropout_prob = 0.2\n",
    "device = 'cuda' if torch.cuda.is_available() else 'cpu'\n",
    "\n",
    "model = SentimentClassifier(\n",
    "    vocab_size=vocab_size,\n",
    "    embedding_size=embedding_dim,\n",
    "    hidden_size=hidden_size,\n",
    "    n_layers=n_layers,\n",
    "    n_classes=n_classes,\n",
    "    dropout_prob=dropout_prob\n",
    ").to(device)"
   ]
  },
  {
   "cell_type": "markdown",
   "metadata": {},
   "source": [
    "### Cài đặt Loss và Optimizer"
   ]
  },
  {
   "cell_type": "code",
   "execution_count": 37,
   "metadata": {},
   "outputs": [],
   "source": [
    "lr = 1e-4\n",
    "epochs = 100\n",
    "criterion = nn.CrossEntropyLoss()\n",
    "optimizer = torch.optim.Adam(model.parameters(), lr=lr)\n"
   ]
  },
  {
   "cell_type": "markdown",
   "metadata": {},
   "source": [
    "### Thực hiện huấn luyện "
   ]
  },
  {
   "cell_type": "code",
   "execution_count": 38,
   "metadata": {},
   "outputs": [],
   "source": [
    "def fit(model, train_loader, val_loader, criterion, optimizer, device, epochs):\n",
    "    train_losses = []\n",
    "    val_losses = []\n",
    "\n",
    "    for epoch in range(epochs):\n",
    "        model.train()\n",
    "        batch_train_losses = []\n",
    "\n",
    "        for inputs, labels in train_loader:\n",
    "            inputs, labels = inputs.to(device), labels.to(device)\n",
    "            optimizer.zero_grad()\n",
    "\n",
    "            outputs = model(inputs)\n",
    "            loss = criterion(outputs, labels)\n",
    "\n",
    "            loss.backward()\n",
    "            optimizer.step()\n",
    "            \n",
    "            batch_train_losses.append(loss.item())\n",
    "\n",
    "        train_loss = sum(batch_train_losses) / len(batch_train_losses)\n",
    "        train_losses.append(train_loss)\n",
    "\n",
    "        val_loss, val_acc = evaluate(model, val_loader, criterion, device)\n",
    "        val_losses.append(val_loss)\n",
    "\n",
    "        print(f\"EPOCH {epoch + 1}:\\tTrain loss: {train_loss:.4f}\\tVal loss: {val_loss:.4f}\")\n",
    "\n",
    "    return train_losses, val_losses\n",
    "\n",
    "def evaluate(model, dataloader, criterion, device):\n",
    "    model.eval()\n",
    "    correct = 0\n",
    "    total = 0\n",
    "    losses = []\n",
    "    \n",
    "    with torch.no_grad():\n",
    "        for inputs, labels in dataloader:\n",
    "            inputs, labels = inputs.to(device), labels.to(device)\n",
    "            outputs = model(inputs)\n",
    "            \n",
    "            loss = criterion(outputs, labels)\n",
    "            losses.append(loss.item())\n",
    "            \n",
    "            _, predicted = torch.max(outputs.data, 1)\n",
    "            total += labels.size(0)\n",
    "            correct += (predicted == labels).sum().item()\n",
    "    \n",
    "    loss = sum(losses) / len(losses)\n",
    "    acc = correct / total\n",
    "    \n",
    "    return loss, acc\n"
   ]
  },
  {
   "cell_type": "code",
   "execution_count": 40,
   "metadata": {},
   "outputs": [
    {
     "name": "stdout",
     "output_type": "stream",
     "text": [
      "EPOCH 1:\tTrain loss: 0.6919\tVal loss: 0.9447\n",
      "EPOCH 2:\tTrain loss: 0.6929\tVal loss: 0.9505\n",
      "EPOCH 3:\tTrain loss: 0.6860\tVal loss: 0.9456\n",
      "EPOCH 4:\tTrain loss: 0.6935\tVal loss: 0.9509\n",
      "EPOCH 5:\tTrain loss: 0.6819\tVal loss: 0.9683\n",
      "EPOCH 6:\tTrain loss: 0.6798\tVal loss: 0.9636\n",
      "EPOCH 7:\tTrain loss: 0.6780\tVal loss: 0.9505\n",
      "EPOCH 8:\tTrain loss: 0.7176\tVal loss: 0.9476\n",
      "EPOCH 9:\tTrain loss: 0.6809\tVal loss: 0.9621\n",
      "EPOCH 10:\tTrain loss: 0.6725\tVal loss: 0.9703\n",
      "EPOCH 11:\tTrain loss: 0.6841\tVal loss: 0.9581\n",
      "EPOCH 12:\tTrain loss: 0.6698\tVal loss: 0.9565\n",
      "EPOCH 13:\tTrain loss: 0.6770\tVal loss: 0.9662\n",
      "EPOCH 14:\tTrain loss: 0.6663\tVal loss: 0.9769\n",
      "EPOCH 15:\tTrain loss: 0.6622\tVal loss: 0.9646\n",
      "EPOCH 16:\tTrain loss: 0.6604\tVal loss: 0.9731\n",
      "EPOCH 17:\tTrain loss: 0.6489\tVal loss: 0.9830\n",
      "EPOCH 18:\tTrain loss: 0.6492\tVal loss: 0.9927\n",
      "EPOCH 19:\tTrain loss: 0.6524\tVal loss: 0.9815\n",
      "EPOCH 20:\tTrain loss: 0.6500\tVal loss: 0.9866\n",
      "EPOCH 21:\tTrain loss: 0.6504\tVal loss: 0.9823\n",
      "EPOCH 22:\tTrain loss: 0.6479\tVal loss: 0.9990\n",
      "EPOCH 23:\tTrain loss: 0.6519\tVal loss: 0.9648\n",
      "EPOCH 24:\tTrain loss: 0.6529\tVal loss: 0.9773\n",
      "EPOCH 25:\tTrain loss: 0.6486\tVal loss: 0.9924\n",
      "EPOCH 26:\tTrain loss: 0.6452\tVal loss: 0.9799\n",
      "EPOCH 27:\tTrain loss: 0.6438\tVal loss: 1.0091\n",
      "EPOCH 28:\tTrain loss: 0.6562\tVal loss: 0.9780\n",
      "EPOCH 29:\tTrain loss: 0.6621\tVal loss: 0.9746\n",
      "EPOCH 30:\tTrain loss: 0.6464\tVal loss: 0.9963\n",
      "EPOCH 31:\tTrain loss: 0.6400\tVal loss: 0.9916\n",
      "EPOCH 32:\tTrain loss: 0.6256\tVal loss: 0.9818\n",
      "EPOCH 33:\tTrain loss: 0.6482\tVal loss: 0.9948\n",
      "EPOCH 34:\tTrain loss: 0.6366\tVal loss: 1.0087\n",
      "EPOCH 35:\tTrain loss: 0.6370\tVal loss: 0.9910\n",
      "EPOCH 36:\tTrain loss: 0.6347\tVal loss: 0.9981\n",
      "EPOCH 37:\tTrain loss: 0.6562\tVal loss: 1.0426\n",
      "EPOCH 38:\tTrain loss: 0.7186\tVal loss: 0.9829\n",
      "EPOCH 39:\tTrain loss: 0.6479\tVal loss: 0.9872\n",
      "EPOCH 40:\tTrain loss: 0.6378\tVal loss: 0.9978\n",
      "EPOCH 41:\tTrain loss: 0.6254\tVal loss: 0.9984\n",
      "EPOCH 42:\tTrain loss: 0.6266\tVal loss: 0.9913\n",
      "EPOCH 43:\tTrain loss: 0.6172\tVal loss: 0.9997\n",
      "EPOCH 44:\tTrain loss: 0.6114\tVal loss: 0.9941\n",
      "EPOCH 45:\tTrain loss: 0.6175\tVal loss: 1.0150\n",
      "EPOCH 46:\tTrain loss: 0.6186\tVal loss: 1.0331\n",
      "EPOCH 47:\tTrain loss: 0.6680\tVal loss: 0.9775\n",
      "EPOCH 48:\tTrain loss: 0.6366\tVal loss: 0.9948\n",
      "EPOCH 49:\tTrain loss: 0.6263\tVal loss: 1.0034\n",
      "EPOCH 50:\tTrain loss: 0.6350\tVal loss: 0.9955\n",
      "EPOCH 51:\tTrain loss: 0.6175\tVal loss: 1.0025\n",
      "EPOCH 52:\tTrain loss: 0.6006\tVal loss: 1.0126\n",
      "EPOCH 53:\tTrain loss: 0.5999\tVal loss: 1.0040\n",
      "EPOCH 54:\tTrain loss: 0.6019\tVal loss: 1.0041\n",
      "EPOCH 55:\tTrain loss: 0.6085\tVal loss: 1.0091\n",
      "EPOCH 56:\tTrain loss: 0.5982\tVal loss: 1.0054\n",
      "EPOCH 57:\tTrain loss: 0.5971\tVal loss: 1.0124\n",
      "EPOCH 58:\tTrain loss: 0.6278\tVal loss: 1.0479\n",
      "EPOCH 59:\tTrain loss: 0.6156\tVal loss: 1.0328\n",
      "EPOCH 60:\tTrain loss: 0.6045\tVal loss: 1.0208\n",
      "EPOCH 61:\tTrain loss: 0.5925\tVal loss: 1.0228\n",
      "EPOCH 62:\tTrain loss: 0.5940\tVal loss: 1.0140\n",
      "EPOCH 63:\tTrain loss: 0.5873\tVal loss: 1.0216\n",
      "EPOCH 64:\tTrain loss: 0.5884\tVal loss: 1.0193\n",
      "EPOCH 65:\tTrain loss: 0.5889\tVal loss: 1.0224\n",
      "EPOCH 66:\tTrain loss: 0.6017\tVal loss: 1.0196\n",
      "EPOCH 67:\tTrain loss: 0.5840\tVal loss: 1.0200\n",
      "EPOCH 68:\tTrain loss: 0.5832\tVal loss: 1.0273\n",
      "EPOCH 69:\tTrain loss: 0.6056\tVal loss: 1.0303\n",
      "EPOCH 70:\tTrain loss: 0.5918\tVal loss: 1.0383\n",
      "EPOCH 71:\tTrain loss: 0.5850\tVal loss: 1.0358\n",
      "EPOCH 72:\tTrain loss: 0.5927\tVal loss: 1.0281\n",
      "EPOCH 73:\tTrain loss: 0.5859\tVal loss: 1.0218\n",
      "EPOCH 74:\tTrain loss: 0.5774\tVal loss: 1.0343\n",
      "EPOCH 75:\tTrain loss: 0.5949\tVal loss: 1.0588\n",
      "EPOCH 76:\tTrain loss: 0.5937\tVal loss: 1.0247\n",
      "EPOCH 77:\tTrain loss: 0.5945\tVal loss: 1.0387\n",
      "EPOCH 78:\tTrain loss: 0.5838\tVal loss: 1.0475\n",
      "EPOCH 79:\tTrain loss: 0.5724\tVal loss: 1.0449\n",
      "EPOCH 80:\tTrain loss: 0.5815\tVal loss: 1.0356\n",
      "EPOCH 81:\tTrain loss: 0.5755\tVal loss: 1.0366\n",
      "EPOCH 82:\tTrain loss: 0.5656\tVal loss: 1.0443\n",
      "EPOCH 83:\tTrain loss: 0.5854\tVal loss: 1.0558\n",
      "EPOCH 84:\tTrain loss: 0.5770\tVal loss: 1.0388\n",
      "EPOCH 85:\tTrain loss: 0.5657\tVal loss: 1.0430\n",
      "EPOCH 86:\tTrain loss: 0.5745\tVal loss: 1.0421\n",
      "EPOCH 87:\tTrain loss: 0.5665\tVal loss: 1.0599\n",
      "EPOCH 88:\tTrain loss: 0.5667\tVal loss: 1.0493\n",
      "EPOCH 89:\tTrain loss: 0.5653\tVal loss: 1.0692\n",
      "EPOCH 90:\tTrain loss: 0.5666\tVal loss: 1.0690\n",
      "EPOCH 91:\tTrain loss: 0.5744\tVal loss: 1.0709\n",
      "EPOCH 92:\tTrain loss: 0.5709\tVal loss: 1.0629\n",
      "EPOCH 93:\tTrain loss: 0.5605\tVal loss: 1.0698\n",
      "EPOCH 94:\tTrain loss: 0.5622\tVal loss: 1.0568\n",
      "EPOCH 95:\tTrain loss: 0.5529\tVal loss: 1.0699\n",
      "EPOCH 96:\tTrain loss: 0.5576\tVal loss: 1.0695\n",
      "EPOCH 97:\tTrain loss: 0.5648\tVal loss: 1.0718\n",
      "EPOCH 98:\tTrain loss: 0.5588\tVal loss: 1.0818\n",
      "EPOCH 99:\tTrain loss: 0.5647\tVal loss: 1.0679\n",
      "EPOCH 100:\tTrain loss: 0.5551\tVal loss: 1.0645\n"
     ]
    }
   ],
   "source": [
    "train_losses, val_losses = fit(\n",
    "    model,\n",
    "    train_loader,\n",
    "    val_loader,\n",
    "    criterion,\n",
    "    optimizer,\n",
    "    device,\n",
    "    epochs\n",
    ")"
   ]
  },
  {
   "cell_type": "code",
   "execution_count": 41,
   "metadata": {},
   "outputs": [
    {
     "data": {
      "image/png": "[encoded data removed]",
      "text/plain": [
       "<Figure size 640x480 with 1 Axes>"
      ]
     },
     "metadata": {},
     "output_type": "display_data"
    }
   ],
   "source": [
    "import matplotlib.pyplot as plt\n",
    "\n",
    "# Plotting train_losses and val_losses\n",
    "plt.plot(train_losses, label='Train Loss')\n",
    "plt.plot(val_losses, label='Validation Loss')\n",
    "plt.xlabel('Epoch')\n",
    "plt.ylabel('Loss')\n",
    "plt.title('Training and Validation Losses')\n",
    "plt.legend()\n",
    "plt.show()"
   ]
  },
  {
   "cell_type": "code",
   "execution_count": 30,
   "metadata": {},
   "outputs": [
    {
     "name": "stdout",
     "output_type": "stream",
     "text": [
      "Evaluation on val / test dataset\n",
      "Val accuracy: 0.5257731958762887\n",
      "Test accuracy: 0.5180412371134021\n"
     ]
    }
   ],
   "source": [
    "val_loss, val_acc = evaluate(model, val_loader, criterion, device)\n",
    "test_loss, test_acc = evaluate(model, test_loader, criterion, device)\n",
    "\n",
    "print('Evaluation on val / test dataset')\n",
    "print('Val accuracy:', val_acc)\n",
    "print('Test accuracy:', test_acc)"
   ]
  },
  {
   "cell_type": "code",
   "execution_count": null,
   "metadata": {},
   "outputs": [],
   "source": []
  }
 ],
 "metadata": {
  "kernelspec": {
   "display_name": "env",
   "language": "python",
   "name": "python3"
  },
  "language_info": {
   "codemirror_mode": {
    "name": "ipython",
    "version": 3
   },
   "file_extension": ".py",
   "mimetype": "text/x-python",
   "name": "python",
   "nbconvert_exporter": "python",
   "pygments_lexer": "ipython3",
   "version": "3.10.12"
  }
 },
 "nbformat": 4,
 "nbformat_minor": 2
}
