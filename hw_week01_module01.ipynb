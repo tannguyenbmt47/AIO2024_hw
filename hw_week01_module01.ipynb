{
 "cells": [
  {
   "cell_type": "code",
   "execution_count": 39,
   "metadata": {},
   "outputs": [
    {
     "name": "stdout",
     "output_type": "stream",
     "text": [
      "precision is 0.4\n",
      "recall is 0.3333333333333333\n",
      "f1-score is 0.3636363636363636\n",
      "--------------------------\n",
      "tp must be int\n",
      "--------------------------\n",
      "fp must be int\n"
     ]
    }
   ],
   "source": [
    "#### Bài 1. Viết function thực hiện đánh giá classification model bằng F1-Score.\n",
    "\n",
    "def excercise1(tp, fp, fn):\n",
    "\n",
    "    # Hàm isinstance được sử dụng để check tham số đầu tiên có phải là 1 instance hay là 1 lớp con của tham số thứ 2\n",
    "    if not isinstance(tp, (int)):\n",
    "        print(\"tp must be int\")\n",
    "    elif not isinstance(fp, (int)):\n",
    "        print(\"fp must be int\")\n",
    "    elif not isinstance(fn, (int)):\n",
    "        print(\"fn must be int\")\n",
    "    else:\n",
    "        if (tp < 0) or (fp < 0) or (fn < 0): \n",
    "            print('tp and fp and fn must be greater than zero')\n",
    "\n",
    "        else:\n",
    "            precision = tp/(tp+fp)\n",
    "            recall = tp/(tp+fn)\n",
    "            f1_score = 2*(precision*recall)/(precision+recall)\n",
    "\n",
    "            print(f\"precision is {precision}\")\n",
    "            print(f\"recall is {recall}\")\n",
    "            print(f\"f1-score is {f1_score}\")\n",
    "\n",
    "            return f1_score\n",
    "\n",
    "\n",
    "excercise1(tp=2, fp =3, fn=4)\n",
    "print(\"--------------------------\")\n",
    "excercise1(tp=\"a\", fp=3, fn=4)\n",
    "print(\"--------------------------\")\n",
    "excercise1(tp=2, fp =3.7, fn=4)\n"
   ]
  },
  {
   "cell_type": "code",
   "execution_count": 40,
   "metadata": {},
   "outputs": [
    {
     "name": "stdout",
     "output_type": "stream",
     "text": [
      "precision is 0.3333333333333333\n",
      "recall is 0.2857142857142857\n",
      "f1-score is 0.30769230769230765\n"
     ]
    },
    {
     "data": {
      "text/plain": [
       "0.31"
      ]
     },
     "execution_count": 40,
     "metadata": {},
     "output_type": "execute_result"
    }
   ],
   "source": [
    "round( excercise1( tp =2 , fp =4 , fn =5) , 2)"
   ]
  },
  {
   "cell_type": "code",
   "execution_count": 44,
   "metadata": {},
   "outputs": [],
   "source": [
    "#### Bài 2. Viết function mô phỏng theo 3 activation function.\n",
    "\n",
    "def is_number(n):\n",
    "    try:\n",
    "        float(n)\n",
    "    except ValueError:\n",
    "        return False\n",
    "    return True\n",
    "\n",
    "def excercise2():\n",
    "    import math\n",
    "    \n",
    "    x = input(\"Input x = \")\n",
    "    \n",
    "    if is_number(x):\n",
    "        x = float(x)\n",
    "        function = input(\"Input activation Function ( sigmoid | relu | elu ) : \")\n",
    "\n",
    "        if function == \"sigmoid\":\n",
    "            result = 1/(1+ math.exp(-x))\n",
    "            print(f\"sigmoid: f({x}) = {result}\")\n",
    "        elif function == \"relu\":\n",
    "            result = 0 if x<=0 else x\n",
    "            print(f\"relu: f({x}) = {result}\")\n",
    "        elif function ==\"elu\":\n",
    "            result = 0.01*(math.exp(x)-1) if x<= 0 else x\n",
    "            print(f\"elu: f({x}) = {result}\")\n",
    "        else:\n",
    "            print(f\"{function} is not supported\")\n",
    "        \n",
    "    else:\n",
    "        print(\"x must be a number\")\n"
   ]
  },
  {
   "cell_type": "code",
   "execution_count": 19,
   "metadata": {},
   "outputs": [
    {
     "name": "stdout",
     "output_type": "stream",
     "text": [
      "sigmoid: f(1.5) = 0.8175744761936437\n"
     ]
    }
   ],
   "source": [
    "excercise2()"
   ]
  },
  {
   "cell_type": "code",
   "execution_count": 20,
   "metadata": {},
   "outputs": [
    {
     "name": "stdout",
     "output_type": "stream",
     "text": [
      "x must be a number\n"
     ]
    }
   ],
   "source": [
    "excercise2()\n",
    "# input x = abc"
   ]
  },
  {
   "cell_type": "code",
   "execution_count": 21,
   "metadata": {},
   "outputs": [
    {
     "name": "stdout",
     "output_type": "stream",
     "text": [
      "belu is not supported\n"
     ]
    }
   ],
   "source": [
    "excercise2()\n"
   ]
  },
  {
   "cell_type": "code",
   "execution_count": 41,
   "metadata": {},
   "outputs": [
    {
     "name": "stdout",
     "output_type": "stream",
     "text": [
      "sigmoid: f(2.0) = 0.8807970779778823\n"
     ]
    }
   ],
   "source": [
    "excercise2() "
   ]
  },
  {
   "cell_type": "code",
   "execution_count": 45,
   "metadata": {},
   "outputs": [
    {
     "name": "stdout",
     "output_type": "stream",
     "text": [
      "elu: f(-1.0) = -0.006321205588285576\n"
     ]
    }
   ],
   "source": [
    "excercise2() \n"
   ]
  },
  {
   "cell_type": "code",
   "execution_count": 47,
   "metadata": {},
   "outputs": [
    {
     "name": "stdout",
     "output_type": "stream",
     "text": [
      "sigmoid: f(3.0) = 0.9525741268224334\n"
     ]
    }
   ],
   "source": [
    "excercise2() \n"
   ]
  },
  {
   "cell_type": "code",
   "execution_count": 29,
   "metadata": {},
   "outputs": [
    {
     "name": "stdout",
     "output_type": "stream",
     "text": [
      "loss name: RMSE, sample: 0, pred: 2.0597006787007297, target: 8.462618491845697, loss: 6.402917813144968\n",
      "loss name: RMSE, sample: 1, pred: 4.238113710022201, target: 7.441973965979094, loss: 5.062710591253923\n",
      "loss name: RMSE, sample: 2, pred: 0.6046946269603659, target: 0.9947052604846507, loss: 4.139814221107485\n",
      "loss name: RMSE, sample: 3, pred: 3.867755858991017, target: 5.077205605008343, loss: 3.63582707385791\n",
      "loss name: RMSE, sample: 4, pred: 0.33652692818615493, target: 5.0800746698512, loss: 3.882736128594068\n"
     ]
    }
   ],
   "source": [
    "#### Bài 3. Viết function lựa chọn regression loss function để tính loss:\n",
    "import random\n",
    "import math\n",
    "\n",
    "def excercise3():\n",
    "    num_samples = input(\"Input number of samples (integer number) which are generated: \")\n",
    "    if not num_samples.isnumeric():\n",
    "        print(\"Number of samples must be an integer number.\")\n",
    "    else:\n",
    "        loss_method = input(\"Input loss name: \").upper()\n",
    "        if loss_method == \"MAE\":\n",
    "            sum_loss = 0\n",
    "            for i in range(int(num_samples)):\n",
    "                y = random.uniform(0,10)\n",
    "                y_hat = random.uniform(0,10)\n",
    "\n",
    "                sum_loss += abs(y - y_hat)\n",
    "\n",
    "                result = 1/(i+1) * sum_loss\n",
    "                print(f\"loss name: {loss_method.upper()}, sample: {i}, pred: {y_hat}, target: {y}, loss: {result}\")\n",
    "\n",
    "        elif loss_method == \"MSE\":\n",
    "            sum_loss = 0\n",
    "            for i in range(int(num_samples)):\n",
    "                y = random.uniform(0,10)\n",
    "                y_hat = random.uniform(0,10)\n",
    "\n",
    "                sum_loss += (y - y_hat)**2\n",
    "\n",
    "                result = 1/(i+1) * sum_loss\n",
    "                \n",
    "                print(f\"loss name: {loss_method.upper()}, sample: {i}, pred: {y_hat}, target: {y}, loss: {result}\")\n",
    "\n",
    "        elif loss_method == \"RMSE\":\n",
    "            sum_loss = 0\n",
    "            for i in range(int(num_samples)):\n",
    "                y = random.uniform(0,10)\n",
    "                y_hat = random.uniform(0,10)\n",
    "\n",
    "                sum_loss += (y - y_hat)**2\n",
    "\n",
    "                result = math.sqrt(1/(i+1) * sum_loss)\n",
    "                \n",
    "                print(f\"loss name: {loss_method.upper()}, sample: {i}, pred: {y_hat}, target: {y}, loss: {result}\")\n",
    "\n",
    "        else:\n",
    "            print(f\"{loss_method} is not supported\")\n",
    "\n",
    "excercise3()\n"
   ]
  },
  {
   "cell_type": "code",
   "execution_count": 35,
   "metadata": {},
   "outputs": [
    {
     "name": "stdout",
     "output_type": "stream",
     "text": [
      "Approx sin of 3.14 is 0.001592652393160744\n",
      "Approx cos of 3.14 is -0.9999987352210833\n",
      "Approx sinh of 3.14 is 11.530292029865986\n",
      "Approx cosh of 3.14 is 11.573574824666185\n"
     ]
    }
   ],
   "source": [
    "#### Bài 4.Viết 4 functions để ước lượng các hàm số sau.\n",
    "import math\n",
    "\n",
    "def approx(function_name, x, n):\n",
    "    \n",
    "    if  not isinstance(x, (float)):\n",
    "        print(\"x is not in right format\")\n",
    "        return None\n",
    "    \n",
    "    if not isinstance(n, (int)):\n",
    "        print(\"n must be int\")\n",
    "        return None\n",
    "    \n",
    "    if function_name not in [\"sin\", \"cos\", \"sinh\", \"cosh\"]:\n",
    "        print(f\"{function_name} is not supported\")\n",
    "\n",
    "    result = 0\n",
    "\n",
    "    if function_name == \"sin\":\n",
    "        for i in range(int(n)):\n",
    "            result += ((-1)**i)*(x**(2*i+1))/ math.factorial(2*i+1)\n",
    "        \n",
    "    elif function_name == \"cos\":\n",
    "        for i in range(int(n)):\n",
    "            result += ((-1)**i)*(x**(2*i))/ math.factorial(2*i)\n",
    "    \n",
    "    elif function_name == \"sinh\":\n",
    "        for i in range(int(n)):\n",
    "            result += (x**(2*i+1))/ math.factorial(2*i+1)\n",
    "\n",
    "    elif function_name == \"cosh\":\n",
    "        for i in range(int(n)):\n",
    "            result += (x**(2*i))/ math.factorial(2*i)\n",
    "\n",
    "    print(f\"Approx {function_name} of {x} is {result}\")\n",
    "\n",
    "\n",
    "approx(function_name =\"sin\", x = 3.14, n = 10)\n",
    "approx(function_name =\"cos\", x = 3.14, n = 10)\n",
    "approx(function_name =\"sinh\", x = 3.14, n = 10)\n",
    "approx(function_name =\"cosh\", x = 3.14, n = 10)"
   ]
  },
  {
   "cell_type": "code",
   "execution_count": null,
   "metadata": {},
   "outputs": [],
   "source": []
  },
  {
   "cell_type": "code",
   "execution_count": 36,
   "metadata": {},
   "outputs": [
    {
     "name": "stdout",
     "output_type": "stream",
     "text": [
      "0.025031328369998107\n",
      "0.03544417213033135\n",
      "0.05625552183565574\n",
      "0.45836890322464546\n"
     ]
    }
   ],
   "source": [
    "#### Bài 5\n",
    "\n",
    "def md_nre_single_sample(y,y_hat,n,p):\n",
    "    result = (y**(1/n) - y_hat**(1/n))**p\n",
    "    print(result)\n",
    "\n",
    "\n",
    "md_nre_single_sample(y=100,y_hat=99.5,n=2,p=1)\n",
    "md_nre_single_sample(y=50,y_hat=49.5,n=2,p=1)\n",
    "md_nre_single_sample(y=20,y_hat=19.5,n=2,p=1)\n",
    "md_nre_single_sample(y=0.6,y_hat=0.1,n=2,p=1)\n"
   ]
  }
 ],
 "metadata": {
  "kernelspec": {
   "display_name": "Python 3",
   "language": "python",
   "name": "python3"
  },
  "language_info": {
   "codemirror_mode": {
    "name": "ipython",
    "version": 3
   },
   "file_extension": ".py",
   "mimetype": "text/x-python",
   "name": "python",
   "nbconvert_exporter": "python",
   "pygments_lexer": "ipython3",
   "version": "3.10.12"
  }
 },
 "nbformat": 4,
 "nbformat_minor": 2
}
