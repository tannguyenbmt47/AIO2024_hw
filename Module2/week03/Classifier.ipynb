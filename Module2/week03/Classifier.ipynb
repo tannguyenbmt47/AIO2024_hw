{
 "cells": [
  {
   "cell_type": "code",
   "execution_count": 1,
   "metadata": {},
   "outputs": [],
   "source": [
    "import numpy as np\n",
    "\n",
    "def create_train_data():\n",
    "    data = [\n",
    "    ['Sunny', 'Hot', 'High', 'Weak', 'no'],\n",
    "    ['Sunny', 'Hot', 'High', 'Strong', 'no'],\n",
    "    ['Overcast', 'Hot', 'High', 'Weak', 'yes'],\n",
    "    ['Rain', 'Mild', 'High', 'Weak', 'yes'],\n",
    "    ['Rain', 'Cool', 'Normal', 'Weak', 'yes'],\n",
    "    ['Rain', 'Cool', 'Normal', 'Strong', 'no'],\n",
    "    ['Overcast', 'Cool', 'Normal', 'Strong', 'yes'],\n",
    "    ['Overcast', 'Mild', 'High', 'Weak', 'no'],\n",
    "    ['Sunny', 'Cool', 'Normal', 'Weak', 'yes'],\n",
    "    ['Rain', 'Mild', 'Normal', 'Weak', 'yes']]  \n",
    "    \n",
    "    return np.array(data)"
   ]
  },
  {
   "cell_type": "code",
   "execution_count": 2,
   "metadata": {},
   "outputs": [
    {
     "name": "stdout",
     "output_type": "stream",
     "text": [
      "P(play tennis = No): 0.4\n",
      "P(play tennis = Yes): 0.6\n"
     ]
    }
   ],
   "source": [
    "def compute_prior_probablity(train_data):\n",
    "    y_unique = ['no', 'yes']\n",
    "    prior_probability = np.zeros(len(y_unique))\n",
    "    \n",
    "    # Counting the occurrences of each class in the dataset\n",
    "    total_samples = train_data.shape[0]\n",
    "    no_count = np.sum(train_data[:, -1] == 'no')\n",
    "    yes_count = np.sum(train_data[:, -1] == 'yes')\n",
    "    \n",
    "    # Calculating prior probabilities\n",
    "    prior_probability[0] = no_count / total_samples\n",
    "    prior_probability[1] = yes_count / total_samples\n",
    "    \n",
    "    return prior_probability\n",
    "\n",
    "train_data = create_train_data()\n",
    "prior_probability = compute_prior_probablity(train_data)\n",
    "print(\"P(play tennis = No):\", prior_probability[0])\n",
    "print(\"P(play tennis = Yes):\", prior_probability[1])"
   ]
  },
  {
   "cell_type": "code",
   "execution_count": 5,
   "metadata": {},
   "outputs": [
    {
     "name": "stdout",
     "output_type": "stream",
     "text": [
      "x1 =  ['Overcast' 'Rain' 'Sunny']\n",
      "x2 =  ['Cool' 'Hot' 'Mild']\n",
      "x3 =  ['High' 'Normal']\n",
      "x4 =  ['Strong' 'Weak']\n"
     ]
    }
   ],
   "source": [
    "def compute_conditional_probability( train_data) :\n",
    "    y_unique = ['no', 'yes']\n",
    "    conditional_probability = []\n",
    "    list_x_name = []\n",
    "    \n",
    "    for i in range(0, train_data.shape[1] - 1):\n",
    "        x_unique = np.unique(train_data[:, i])\n",
    "        list_x_name.append(x_unique)\n",
    "        \n",
    "        x_conditional_probability = np.zeros((len(y_unique), len(x_unique)))\n",
    "        \n",
    "        for j, y in enumerate(y_unique):\n",
    "            y_count = np.sum(train_data[:, -1] == y)\n",
    "            \n",
    "            for k, x in enumerate(x_unique):\n",
    "                x_and_y_count = np.sum((train_data[:, i] == x) & (train_data[:, -1] == y))\n",
    "                x_conditional_probability[j, k] = x_and_y_count / y_count\n",
    "        \n",
    "        conditional_probability.append(x_conditional_probability)\n",
    "\n",
    "    conditional_probability.append(x_conditional_probability )\n",
    "    return conditional_probability , list_x_name\n",
    "\n",
    "conditional_probability, list_x_name = compute_conditional_probability(train_data)\n",
    "\n",
    "train_data = create_train_data ()\n",
    "\n",
    "print(\"x1 = \", list_x_name [0])\n",
    "print(\"x2 = \", list_x_name [1])\n",
    "print(\"x3 = \", list_x_name [2])\n",
    "print(\"x4 = \", list_x_name [3])"
   ]
  },
  {
   "cell_type": "code",
   "execution_count": null,
   "metadata": {},
   "outputs": [],
   "source": [
    "def get_index_from_value ( feature_name , list_features ) :\n",
    "    return np.where(list_features == feature_name )[0][0]"
   ]
  }
 ],
 "metadata": {
  "kernelspec": {
   "display_name": "Python 3",
   "language": "python",
   "name": "python3"
  },
  "language_info": {
   "codemirror_mode": {
    "name": "ipython",
    "version": 3
   },
   "file_extension": ".py",
   "mimetype": "text/x-python",
   "name": "python",
   "nbconvert_exporter": "python",
   "pygments_lexer": "ipython3",
   "version": "3.10.12"
  }
 },
 "nbformat": 4,
 "nbformat_minor": 2
}
