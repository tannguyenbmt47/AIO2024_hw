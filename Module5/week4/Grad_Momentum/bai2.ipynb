{
 "cells": [
  {
   "cell_type": "code",
   "execution_count": 16,
   "metadata": {},
   "outputs": [],
   "source": [
    "import numpy as np\n",
    "\n",
    "def df_w(W):\n",
    "    dw1 = 0.2*W[0]\n",
    "    dw2 = 4*W[1]\n",
    "\n",
    "    return np.array([dw1, dw2])\n",
    "\n",
    "def V(v,dw,b):\n",
    "    return b*v + (1-b)*dw\n",
    "\n",
    "def sgd_momentum(W, v, lr, b):\n",
    "    dw = df_w(W)\n",
    "    v = V(v,dw,b)\n",
    "    W = W - lr*v\n",
    "\n",
    "    return W, v\n",
    "\n",
    "def train_p2(v, lr, b, epochs):\n",
    "    W = np.array([-5, -2], dtype=np.float32)\n",
    "    # list of results\n",
    "    results = [W]\n",
    "    results_v = [v]\n",
    "    for i in range(epochs):\n",
    "        W, v = sgd_momentum(W, v, lr, b)\n",
    "        results.append(W)\n",
    "        results_v.append(v)\n",
    "    return results, results_v\n",
    "\n"
   ]
  },
  {
   "cell_type": "code",
   "execution_count": 19,
   "metadata": {},
   "outputs": [],
   "source": [
    "v = np.array([0,0])\n",
    "lr =0.6\n",
    "b = 0.5\n",
    "\n",
    "result_w, result_v = train_p2(v, lr, b, 30)"
   ]
  },
  {
   "cell_type": "code",
   "execution_count": 21,
   "metadata": {},
   "outputs": [
    {
     "name": "stdout",
     "output_type": "stream",
     "text": [
      "[-6.10072592e-02  6.45162933e-05]\n"
     ]
    }
   ],
   "source": [
    "print(result_w[-1])\n"
   ]
  },
  {
   "cell_type": "code",
   "execution_count": null,
   "metadata": {},
   "outputs": [],
   "source": []
  },
  {
   "cell_type": "code",
   "execution_count": null,
   "metadata": {},
   "outputs": [],
   "source": []
  }
 ],
 "metadata": {
  "kernelspec": {
   "display_name": "env",
   "language": "python",
   "name": "python3"
  },
  "language_info": {
   "codemirror_mode": {
    "name": "ipython",
    "version": 3
   },
   "file_extension": ".py",
   "mimetype": "text/x-python",
   "name": "python",
   "nbconvert_exporter": "python",
   "pygments_lexer": "ipython3",
   "version": "3.10.12"
  }
 },
 "nbformat": 4,
 "nbformat_minor": 2
}
