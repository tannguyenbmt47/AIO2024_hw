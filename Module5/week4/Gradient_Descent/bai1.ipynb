{
 "cells": [
  {
   "cell_type": "code",
   "execution_count": 1,
   "metadata": {},
   "outputs": [],
   "source": [
    "import numpy as np\n",
    "\n",
    "def df_w(W):\n",
    "    \"\"\"\n",
    "    Thực hiện tính gradient của dw1 và dw2\n",
    "    Arguments:\n",
    "    W -- np.array [w1, w2]\n",
    "    Returns:\n",
    "    dW -- np.array [dw1, dw2], array chứa giá trị đạo hàm theo w1 và w2\n",
    "    \"\"\"\n",
    "    ################ YOUR CODE HERE ################\n",
    "    dw1 = 0.2 * W[0]\n",
    "    dw2 = 4* W[1]\n",
    "    dW = np.array([dw1, dw2])\n",
    "    ################################################\n",
    "\n",
    "    return dW\n"
   ]
  },
  {
   "cell_type": "code",
   "execution_count": 3,
   "metadata": {},
   "outputs": [],
   "source": [
    "def sgd(W, dW, lr):\n",
    "    \"\"\"\n",
    "    Thực hiện thuật toán Gradient Descent để update w1 và w2\n",
    "    Arguments:\n",
    "    W -- np.array [w1, w2]\n",
    "    dW -- np.array [dw1, dw2], array chứa giá trị đạo hàm theo w1 và w2\n",
    "    lr -- float: learning rate\n",
    "    Returns:\n",
    "    W -- np.array [w1, w2] w1 và w2 sau khi đã update\n",
    "    \"\"\"\n",
    "    ################ YOUR CODE HERE ################\n",
    "    # Công thức update: W = W - lr * dW\n",
    "    W = W - lr * dW\n",
    "    ################################################\n",
    "\n",
    "    return W"
   ]
  },
  {
   "cell_type": "code",
   "execution_count": 5,
   "metadata": {},
   "outputs": [],
   "source": [
    "def train_p1(optimizer, lr, epochs):\n",
    "    \"\"\"\n",
    "    Thực hiện tìm điểm minimum của function (1) dựa vào thuật toán \n",
    "    được truyền vào từ optimizer\n",
    "    Arguments:\n",
    "    optimizer -- function thực hiện thuật toán optimization cụ thể\n",
    "    lr -- float: learning rate\n",
    "    epochs -- int: số lượng lần (epoch) lặp để tìm điểm minimum\n",
    "    Returns:\n",
    "    results -- list: list các cặp điểm [w1, w2] sau mỗi epoch (mỗi lần cập nhật)\n",
    "    \"\"\"\n",
    "    # initial point\n",
    "    W = np.array([-5, -2], dtype=np.float32)\n",
    "    # list of results\n",
    "    results = [W]\n",
    "\n",
    "    ################ YOUR CODE HERE ################\n",
    "    for epoch in range(epochs):\n",
    "        dW = df_w(W)\n",
    "        W = optimizer(W, dW, lr)\n",
    "        results.append(W)\n",
    "        \n",
    "    ################################################\n",
    "\n",
    "    return results\n",
    "\n"
   ]
  },
  {
   "cell_type": "code",
   "execution_count": 6,
   "metadata": {},
   "outputs": [
    {
     "ename": "TypeError",
     "evalue": "'int' object is not iterable",
     "output_type": "error",
     "traceback": [
      "\u001b[0;31m---------------------------------------------------------------------------\u001b[0m",
      "\u001b[0;31mTypeError\u001b[0m                                 Traceback (most recent call last)",
      "Cell \u001b[0;32mIn[6], line 5\u001b[0m\n\u001b[1;32m      1\u001b[0m W \u001b[38;5;241m=\u001b[39m [\u001b[38;5;241m-\u001b[39m\u001b[38;5;241m5\u001b[39m,\u001b[38;5;241m-\u001b[39m\u001b[38;5;241m2\u001b[39m]\n\u001b[1;32m      2\u001b[0m lr \u001b[38;5;241m=\u001b[39m\u001b[38;5;241m0.4\u001b[39m\n\u001b[0;32m----> 5\u001b[0m results \u001b[38;5;241m=\u001b[39m \u001b[43mtrain_p1\u001b[49m\u001b[43m(\u001b[49m\u001b[43msgd\u001b[49m\u001b[43m,\u001b[49m\u001b[43m \u001b[49m\u001b[43mlr\u001b[49m\u001b[43m,\u001b[49m\u001b[43m \u001b[49m\u001b[38;5;241;43m30\u001b[39;49m\u001b[43m)\u001b[49m\n\u001b[1;32m      6\u001b[0m \u001b[38;5;28mprint\u001b[39m(results)\n",
      "Cell \u001b[0;32mIn[5], line 18\u001b[0m, in \u001b[0;36mtrain_p1\u001b[0;34m(optimizer, lr, epochs)\u001b[0m\n\u001b[1;32m     15\u001b[0m results \u001b[38;5;241m=\u001b[39m [W]\n\u001b[1;32m     17\u001b[0m \u001b[38;5;66;03m################ YOUR CODE HERE ################\u001b[39;00m\n\u001b[0;32m---> 18\u001b[0m \u001b[38;5;28;01mfor\u001b[39;00m epoch \u001b[38;5;129;01min\u001b[39;00m epochs:\n\u001b[1;32m     19\u001b[0m     dW \u001b[38;5;241m=\u001b[39m df_w(W)\n\u001b[1;32m     20\u001b[0m     W \u001b[38;5;241m=\u001b[39m optimizer(W, dW, lr)\n",
      "\u001b[0;31mTypeError\u001b[0m: 'int' object is not iterable"
     ]
    }
   ],
   "source": [
    "W = [-5,-2]\n",
    "lr =0.4\n",
    "\n",
    "\n",
    "results = train_p1(sgd, lr, 30)\n",
    "print(results)"
   ]
  },
  {
   "cell_type": "code",
   "execution_count": null,
   "metadata": {},
   "outputs": [],
   "source": []
  }
 ],
 "metadata": {
  "kernelspec": {
   "display_name": "env",
   "language": "python",
   "name": "python3"
  },
  "language_info": {
   "codemirror_mode": {
    "name": "ipython",
    "version": 3
   },
   "file_extension": ".py",
   "mimetype": "text/x-python",
   "name": "python",
   "nbconvert_exporter": "python",
   "pygments_lexer": "ipython3",
   "version": "3.10.12"
  }
 },
 "nbformat": 4,
 "nbformat_minor": 2
}
