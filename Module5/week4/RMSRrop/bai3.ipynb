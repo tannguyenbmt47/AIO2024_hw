{
 "cells": [
  {
   "cell_type": "code",
   "execution_count": 6,
   "metadata": {},
   "outputs": [],
   "source": [
    "import numpy as np\n",
    "\n",
    "def df_w(W):\n",
    "    return np.array([0.2*W[0], 4*W[1]])\n",
    "\n",
    "def cal_S(dW, gamma, S):\n",
    "    return gamma*S + (1-gamma)*(dW**2)\n",
    "\n",
    "def optimizer(W, gamma, S, lr, dW, epsilon):\n",
    "    W = W - lr*dW/(np.sqrt(S)+epsilon)\n",
    "    return W, S\n",
    "\n",
    "def train_p3( gamma, S, lr, epochs, epsilon):\n",
    "    W = np.array([-5,-2], dtype = np.float32)\n",
    "    result = [W]\n",
    "    for i in range(epochs):\n",
    "        dW = df_w(W)\n",
    "        S = cal_S(dW, gamma, S)\n",
    "        W, S = optimizer(W, gamma, S, lr, dW, epsilon)\n",
    "        result.append(W)\n",
    "    \n",
    "    return result"
   ]
  },
  {
   "cell_type": "code",
   "execution_count": 9,
   "metadata": {},
   "outputs": [
    {
     "name": "stdout",
     "output_type": "stream",
     "text": [
      "[-3.00560338e-03 -3.00487798e-17]\n"
     ]
    }
   ],
   "source": [
    "S = np.array([0,0])\n",
    "lr = 0.3\n",
    "gamma = 0.9\n",
    "epsilon = 1e-6\n",
    "result = train_p3(gamma, S, lr, 30, epsilon)\n",
    "print(result[-1])"
   ]
  },
  {
   "cell_type": "code",
   "execution_count": null,
   "metadata": {},
   "outputs": [],
   "source": []
  }
 ],
 "metadata": {
  "kernelspec": {
   "display_name": "env",
   "language": "python",
   "name": "python3"
  },
  "language_info": {
   "codemirror_mode": {
    "name": "ipython",
    "version": 3
   },
   "file_extension": ".py",
   "mimetype": "text/x-python",
   "name": "python",
   "nbconvert_exporter": "python",
   "pygments_lexer": "ipython3",
   "version": "3.10.12"
  }
 },
 "nbformat": 4,
 "nbformat_minor": 2
}
