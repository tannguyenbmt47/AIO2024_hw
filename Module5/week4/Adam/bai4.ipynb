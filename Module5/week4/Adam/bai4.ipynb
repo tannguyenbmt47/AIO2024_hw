{
 "cells": [
  {
   "cell_type": "code",
   "execution_count": 7,
   "metadata": {},
   "outputs": [],
   "source": [
    "import numpy as np\n",
    "\n",
    "\n",
    "def df_w(W):\n",
    "    return [0.2*W[0], 4*W[1]]\n",
    "\n",
    "def cal_V(v, b1, dW):\n",
    "    return b1*v + (1-b1)*dW\n",
    "\n",
    "def cal_S(s, b2, dW):\n",
    "    return b2*s + (1-b2)*(dW**2)\n",
    "\n",
    "def cal_corr_V(v, b1, t):\n",
    "    return v/(1-b1**t)\n",
    "\n",
    "def cal_corr_S(s, b2, t):\n",
    "    return s/(1-b2**t)\n",
    "\n",
    "def cal_W(V_corr, S_corr, W, lr, epsilon):\n",
    "    return W - lr*V_corr/(np.sqrt(S_corr)+epsilon)\n"
   ]
  },
  {
   "cell_type": "code",
   "execution_count": 8,
   "metadata": {},
   "outputs": [],
   "source": [
    "def train_p4(v,s,lr,b1,b2,epsilon, epochs):\n",
    "    W = np.array([-5,-2], dtype=np.float32)\n",
    "    results = [W]\n",
    "\n",
    "    for t in range(epochs):\n",
    "        dW = df_w(W)\n",
    "        V = cal_V(v, b1, dW)\n",
    "        S = cal_S(s, b2, dW)\n",
    "        V_corr = cal_corr_V(V, b1, t)\n",
    "        S_corr = cal_corr_S(S, b2, t)\n",
    "        W= cal_W(V_corr, S_corr, W, lr, epsilon)\n",
    "        results.append(W)\n",
    "    return results"
   ]
  },
  {
   "cell_type": "code",
   "execution_count": 6,
   "metadata": {},
   "outputs": [
    {
     "ename": "TypeError",
     "evalue": "can't multiply sequence by non-int of type 'float'",
     "output_type": "error",
     "traceback": [
      "\u001b[0;31m---------------------------------------------------------------------------\u001b[0m",
      "\u001b[0;31mTypeError\u001b[0m                                 Traceback (most recent call last)",
      "Cell \u001b[0;32mIn[6], line 8\u001b[0m\n\u001b[1;32m      5\u001b[0m b2 \u001b[38;5;241m=\u001b[39m \u001b[38;5;241m0.999\u001b[39m\n\u001b[1;32m      6\u001b[0m epsilon \u001b[38;5;241m=\u001b[39m \u001b[38;5;241m1e-6\u001b[39m\n\u001b[0;32m----> 8\u001b[0m results \u001b[38;5;241m=\u001b[39m \u001b[43mtrain_p4\u001b[49m\u001b[43m(\u001b[49m\u001b[43mnp\u001b[49m\u001b[38;5;241;43m.\u001b[39;49m\u001b[43marray\u001b[49m\u001b[43m(\u001b[49m\u001b[43mv\u001b[49m\u001b[43m)\u001b[49m\u001b[43m,\u001b[49m\u001b[43m \u001b[49m\u001b[43mnp\u001b[49m\u001b[38;5;241;43m.\u001b[39;49m\u001b[43marray\u001b[49m\u001b[43m(\u001b[49m\u001b[43ms\u001b[49m\u001b[43m)\u001b[49m\u001b[43m,\u001b[49m\u001b[43m \u001b[49m\u001b[43mlr\u001b[49m\u001b[43m,\u001b[49m\u001b[43m \u001b[49m\u001b[43mb1\u001b[49m\u001b[43m,\u001b[49m\u001b[43m \u001b[49m\u001b[43mb2\u001b[49m\u001b[43m,\u001b[49m\u001b[43m \u001b[49m\u001b[43mepsilon\u001b[49m\u001b[43m,\u001b[49m\u001b[43m \u001b[49m\u001b[38;5;241;43m2\u001b[39;49m\u001b[43m)\u001b[49m\n\u001b[1;32m     10\u001b[0m \u001b[38;5;28mprint\u001b[39m(results)\n",
      "Cell \u001b[0;32mIn[4], line 7\u001b[0m, in \u001b[0;36mtrain_p4\u001b[0;34m(v, s, lr, b1, b2, epsilon, epochs)\u001b[0m\n\u001b[1;32m      5\u001b[0m \u001b[38;5;28;01mfor\u001b[39;00m i \u001b[38;5;129;01min\u001b[39;00m \u001b[38;5;28mrange\u001b[39m(epochs):\n\u001b[1;32m      6\u001b[0m     dW \u001b[38;5;241m=\u001b[39m df_w(W)\n\u001b[0;32m----> 7\u001b[0m     V \u001b[38;5;241m=\u001b[39m \u001b[43mcal_V\u001b[49m\u001b[43m(\u001b[49m\u001b[43mv\u001b[49m\u001b[43m,\u001b[49m\u001b[43m \u001b[49m\u001b[43mb1\u001b[49m\u001b[43m,\u001b[49m\u001b[43m \u001b[49m\u001b[43mdW\u001b[49m\u001b[43m)\u001b[49m\n\u001b[1;32m      8\u001b[0m     S \u001b[38;5;241m=\u001b[39m cal_S(s, b2, dW)\n\u001b[1;32m      9\u001b[0m     V_corr \u001b[38;5;241m=\u001b[39m cal_corr_V(V, b1, t)\n",
      "Cell \u001b[0;32mIn[1], line 8\u001b[0m, in \u001b[0;36mcal_V\u001b[0;34m(v, b1, dW)\u001b[0m\n\u001b[1;32m      7\u001b[0m \u001b[38;5;28;01mdef\u001b[39;00m \u001b[38;5;21mcal_V\u001b[39m(v, b1, dW):\n\u001b[0;32m----> 8\u001b[0m     \u001b[38;5;28;01mreturn\u001b[39;00m b1\u001b[38;5;241m*\u001b[39mv \u001b[38;5;241m+\u001b[39m \u001b[43m(\u001b[49m\u001b[38;5;241;43m1\u001b[39;49m\u001b[38;5;241;43m-\u001b[39;49m\u001b[43mb1\u001b[49m\u001b[43m)\u001b[49m\u001b[38;5;241;43m*\u001b[39;49m\u001b[43mdW\u001b[49m\n",
      "\u001b[0;31mTypeError\u001b[0m: can't multiply sequence by non-int of type 'float'"
     ]
    }
   ],
   "source": [
    "v = np.array([0,0], dtype=np.float32)\n",
    "s = np.array([0,0], dtype=np.float32)\n",
    "lr = 0.2\n",
    "b1 = 0.9\n",
    "b2 = 0.999\n",
    "epsilon = 1e-6\n",
    "\n",
    "results = train_p4(np.array(v), np.array(s), lr, b1, b2, epsilon, 2)\n",
    "\n",
    "print(results)"
   ]
  },
  {
   "cell_type": "code",
   "execution_count": null,
   "metadata": {},
   "outputs": [],
   "source": []
  }
 ],
 "metadata": {
  "kernelspec": {
   "display_name": "env",
   "language": "python",
   "name": "python3"
  },
  "language_info": {
   "codemirror_mode": {
    "name": "ipython",
    "version": 3
   },
   "file_extension": ".py",
   "mimetype": "text/x-python",
   "name": "python",
   "nbconvert_exporter": "python",
   "pygments_lexer": "ipython3",
   "version": "3.10.12"
  }
 },
 "nbformat": 4,
 "nbformat_minor": 2
}
