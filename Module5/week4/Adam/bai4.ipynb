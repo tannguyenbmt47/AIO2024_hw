{
 "cells": [
  {
   "cell_type": "code",
   "execution_count": 19,
   "metadata": {},
   "outputs": [],
   "source": [
    "import numpy as np\n",
    "\n",
    "\n",
    "def df_w(W):\n",
    "    return np.array([0.2*W[0], 4*W[1]])\n",
    "\n",
    "def cal_V(v, b1, dW):\n",
    "    return b1*v + (1-b1)*dW\n",
    "\n",
    "def cal_S(s, b2, dW):\n",
    "    return b2*s + (1-b2)*(dW**2)\n",
    "\n",
    "def cal_corr_V(v, b1, t):\n",
    "    return v/(1-b1**t)\n",
    "\n",
    "def cal_corr_S(s, b2, t):\n",
    "    return s/(1-b2**t)\n",
    "\n",
    "def cal_W(V_corr, S_corr, W, lr, epsilon):\n",
    "    return W - lr*V_corr/(np.sqrt(S_corr)+epsilon)\n"
   ]
  },
  {
   "cell_type": "code",
   "execution_count": 20,
   "metadata": {},
   "outputs": [],
   "source": [
    "def train_p4(v,s,lr,b1,b2,epsilon, epochs):\n",
    "    W = np.array([-5,-2], dtype=np.float32)\n",
    "    results = [W]\n",
    "\n",
    "    for t in range(1,epochs+1):\n",
    "        dW = df_w(W)\n",
    "        V = cal_V(v, b1, dW)\n",
    "        S = cal_S(s, b2, dW)\n",
    "        V_corr = cal_corr_V(V, b1, t)\n",
    "        S_corr = cal_corr_S(S, b2, t)\n",
    "        W= cal_W(V_corr, S_corr, W, lr, epsilon)\n",
    "        results.append(W)\n",
    "    return results"
   ]
  },
  {
   "cell_type": "code",
   "execution_count": 25,
   "metadata": {},
   "outputs": [
    {
     "name": "stdout",
     "output_type": "stream",
     "text": [
      "[-1.73985533 -0.02697158]\n"
     ]
    }
   ],
   "source": [
    "v = np.array([0,0], dtype=np.float32)\n",
    "s = np.array([0,0], dtype=np.float32)\n",
    "lr = 0.2\n",
    "b1 = 0.9\n",
    "b2 = 0.999\n",
    "epsilon = 1e-6\n",
    "\n",
    "results = train_p4(v, s, lr, b1, b2, epsilon, 30)\n",
    "\n",
    "print(results[-1])"
   ]
  },
  {
   "cell_type": "code",
   "execution_count": null,
   "metadata": {},
   "outputs": [],
   "source": []
  }
 ],
 "metadata": {
  "kernelspec": {
   "display_name": "env",
   "language": "python",
   "name": "python3"
  },
  "language_info": {
   "codemirror_mode": {
    "name": "ipython",
    "version": 3
   },
   "file_extension": ".py",
   "mimetype": "text/x-python",
   "name": "python",
   "nbconvert_exporter": "python",
   "pygments_lexer": "ipython3",
   "version": "3.10.12"
  }
 },
 "nbformat": 4,
 "nbformat_minor": 2
}
