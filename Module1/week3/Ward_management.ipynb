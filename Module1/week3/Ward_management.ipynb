{
 "cells": [
  {
   "cell_type": "code",
   "execution_count": 14,
   "metadata": {},
   "outputs": [],
   "source": [
    "class Ward():\n",
    "    def __init__(self, name):\n",
    "        self.name = name\n",
    "        self.people = []\n",
    "\n",
    "    def add_person(self, person):\n",
    "        self.people.append(person)\n",
    "\n",
    "    def describe(self):\n",
    "        print(f\"Ward Name: {self.name}\")\n",
    "        for person in self.people:\n",
    "            person.describe()\n",
    "\n",
    "    def count_doctor(self):\n",
    "        return sum(isinstance(person, Doctor) for person in self.people)\n",
    "    \n",
    "    def sort_age(self):\n",
    "        self.people.sort(key=lambda person: person.yob)\n",
    "\n",
    "    def compute_average(self):\n",
    "        teachers = [person for person in self.people if isinstance(person, Teacher)]\n",
    "        if not teachers:\n",
    "            return 0\n",
    "        return sum(teacher.__yob__ for teacher in teachers) / len(teachers)\n",
    "\n",
    "\n",
    "class Student():\n",
    "    def __init__(self, name, yob, grade) -> None:\n",
    "        self.__name__ = name\n",
    "        self.__yob__ = yob\n",
    "        self.__grade__ = grade\n",
    "\n",
    "    def describe(self):\n",
    "        print(\n",
    "            f\"Student - Name: {self.__name__} - YoB: {self.__yob__} - Grade:{self.__grade__}\")\n",
    "\n",
    "class Teacher():\n",
    "    def __init__(self, name, yob, subject) -> None:\n",
    "        self.__name__ = name\n",
    "        self.__yob__ = yob\n",
    "        self.__subject__ = subject\n",
    "\n",
    "    def describe(self):\n",
    "        print(\n",
    "            f\"Teacher - Name: {self.__name__} - YoB: {self.__yob__} - Subject:{self.__subject__}\")\n",
    "        \n",
    "\n",
    "class Doctor():\n",
    "    def __init__(self, name, yob, specialist) -> None:\n",
    "        self.__name__ = name\n",
    "        self.__yob__ = yob\n",
    "        self.__specialist__ = specialist\n",
    "\n",
    "    def describe(self):\n",
    "        print(\n",
    "            f\"Doctor - Name: {self.__name__} - YoB: {self.__yob__} - Specialist:{self.__specialist__}\")\n",
    "        \n",
    "\n"
   ]
  },
  {
   "cell_type": "code",
   "execution_count": 15,
   "metadata": {},
   "outputs": [
    {
     "name": "stdout",
     "output_type": "stream",
     "text": [
      "Ward Name: Ward1\n",
      "Student - Name: studentA - YoB: 2010 - Grade:7\n",
      "Teacher - Name: teacherA - YoB: 1969 - Subject:Math\n",
      "Teacher - Name: teacherB - YoB: 1995 - Subject:History\n",
      "Doctor - Name: doctorA - YoB: 1945 - Specialist:Endocrinologists\n",
      "Doctor - Name: doctorB - YoB: 1975 - Specialist:Cardiologists\n"
     ]
    }
   ],
   "source": [
    "# Tạo các đối tượng\n",
    "student1 = Student(name=\"studentA\", yob=2010, grade=\"7\")\n",
    "teacher1 = Teacher(name=\"teacherA\", yob=1969, subject=\"Math\")\n",
    "teacher2 = Teacher(name=\"teacherB\", yob=1995, subject=\"History\")\n",
    "doctor1 = Doctor(name=\"doctorA\", yob=1945, specialist=\"Endocrinologists\")\n",
    "doctor2 = Doctor(name=\"doctorB\", yob=1975, specialist=\"Cardiologists\")\n",
    "\n",
    "# Tạo đối tượng Ward và thêm người vào danh sách\n",
    "ward1 = Ward(name=\"Ward1\")\n",
    "ward1.add_person(student1)\n",
    "ward1.add_person(teacher1)\n",
    "ward1.add_person(teacher2)\n",
    "ward1.add_person(doctor1)\n",
    "ward1.add_person(doctor2)\n",
    "\n",
    "# Mô tả ward\n",
    "ward1.describe()"
   ]
  },
  {
   "cell_type": "code",
   "execution_count": 16,
   "metadata": {},
   "outputs": [
    {
     "name": "stdout",
     "output_type": "stream",
     "text": [
      "Number of doctors: 2\n"
     ]
    }
   ],
   "source": [
    "print(f\"Number of doctors: {ward1.count_doctor()}\")\n"
   ]
  },
  {
   "cell_type": "code",
   "execution_count": 18,
   "metadata": {},
   "outputs": [
    {
     "name": "stdout",
     "output_type": "stream",
     "text": [
      "Average year of birth (teachers): 1982.0\n"
     ]
    }
   ],
   "source": [
    "print(f\"Average year of birth (teachers): {ward1.compute_average()}\")\n"
   ]
  }
 ],
 "metadata": {
  "kernelspec": {
   "display_name": "env",
   "language": "python",
   "name": "python3"
  },
  "language_info": {
   "codemirror_mode": {
    "name": "ipython",
    "version": 3
   },
   "file_extension": ".py",
   "mimetype": "text/x-python",
   "name": "python",
   "nbconvert_exporter": "python",
   "pygments_lexer": "ipython3",
   "version": "3.10.12"
  }
 },
 "nbformat": 4,
 "nbformat_minor": 2
}
